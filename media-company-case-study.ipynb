{
 "cells": [
  {
   "cell_type": "markdown",
   "id": "a71bd7b3",
   "metadata": {
    "papermill": {
     "duration": 0.016712,
     "end_time": "2022-11-18T02:33:38.836565",
     "exception": false,
     "start_time": "2022-11-18T02:33:38.819853",
     "status": "completed"
    },
    "tags": []
   },
   "source": [
    "# Media Company Case Study"
   ]
  },
  {
   "cell_type": "code",
   "execution_count": 1,
   "id": "b82eea00",
   "metadata": {
    "execution": {
     "iopub.execute_input": "2022-11-18T02:33:38.870588Z",
     "iopub.status.busy": "2022-11-18T02:33:38.868885Z",
     "iopub.status.idle": "2022-11-18T02:33:40.464356Z",
     "shell.execute_reply": "2022-11-18T02:33:40.463348Z"
    },
    "papermill": {
     "duration": 1.616323,
     "end_time": "2022-11-18T02:33:40.467269",
     "exception": false,
     "start_time": "2022-11-18T02:33:38.850946",
     "status": "completed"
    },
    "tags": []
   },
   "outputs": [],
   "source": [
    "import numpy as np\n",
    "import pandas as pd\n",
    "import matplotlib.pyplot as plt \n",
    "%matplotlib inline\n",
    "import seaborn as sns\n",
    "from sklearn.model_selection import train_test_split\n",
    "from sklearn.linear_model import LinearRegression"
   ]
  },
  {
   "cell_type": "code",
   "execution_count": 2,
   "id": "54d085c2",
   "metadata": {
    "execution": {
     "iopub.execute_input": "2022-11-18T02:33:40.498448Z",
     "iopub.status.busy": "2022-11-18T02:33:40.497273Z",
     "iopub.status.idle": "2022-11-18T02:33:40.538241Z",
     "shell.execute_reply": "2022-11-18T02:33:40.536494Z"
    },
    "papermill": {
     "duration": 0.059699,
     "end_time": "2022-11-18T02:33:40.541406",
     "exception": false,
     "start_time": "2022-11-18T02:33:40.481707",
     "status": "completed"
    },
    "tags": []
   },
   "outputs": [
    {
     "data": {
      "text/html": [
       "<div>\n",
       "<style scoped>\n",
       "    .dataframe tbody tr th:only-of-type {\n",
       "        vertical-align: middle;\n",
       "    }\n",
       "\n",
       "    .dataframe tbody tr th {\n",
       "        vertical-align: top;\n",
       "    }\n",
       "\n",
       "    .dataframe thead th {\n",
       "        text-align: right;\n",
       "    }\n",
       "</style>\n",
       "<table border=\"1\" class=\"dataframe\">\n",
       "  <thead>\n",
       "    <tr style=\"text-align: right;\">\n",
       "      <th></th>\n",
       "      <th>Date</th>\n",
       "      <th>Views_show</th>\n",
       "      <th>Visitors</th>\n",
       "      <th>Views_platform</th>\n",
       "      <th>Ad_impression</th>\n",
       "      <th>Cricket_match_india</th>\n",
       "      <th>Character_A</th>\n",
       "      <th>Unnamed: 7</th>\n",
       "    </tr>\n",
       "  </thead>\n",
       "  <tbody>\n",
       "    <tr>\n",
       "      <th>0</th>\n",
       "      <td>3/1/2017</td>\n",
       "      <td>183738</td>\n",
       "      <td>1260228</td>\n",
       "      <td>1706478</td>\n",
       "      <td>1060860448</td>\n",
       "      <td>0</td>\n",
       "      <td>0</td>\n",
       "      <td>NaN</td>\n",
       "    </tr>\n",
       "    <tr>\n",
       "      <th>1</th>\n",
       "      <td>3/2/2017</td>\n",
       "      <td>193763</td>\n",
       "      <td>1270561</td>\n",
       "      <td>1690727</td>\n",
       "      <td>1031846645</td>\n",
       "      <td>0</td>\n",
       "      <td>0</td>\n",
       "      <td>NaN</td>\n",
       "    </tr>\n",
       "    <tr>\n",
       "      <th>2</th>\n",
       "      <td>3/3/2017</td>\n",
       "      <td>210479</td>\n",
       "      <td>1248183</td>\n",
       "      <td>1726157</td>\n",
       "      <td>1010867575</td>\n",
       "      <td>0</td>\n",
       "      <td>0</td>\n",
       "      <td>NaN</td>\n",
       "    </tr>\n",
       "    <tr>\n",
       "      <th>3</th>\n",
       "      <td>3/4/2017</td>\n",
       "      <td>240061</td>\n",
       "      <td>1492913</td>\n",
       "      <td>1855353</td>\n",
       "      <td>1079194579</td>\n",
       "      <td>1</td>\n",
       "      <td>0</td>\n",
       "      <td>NaN</td>\n",
       "    </tr>\n",
       "    <tr>\n",
       "      <th>4</th>\n",
       "      <td>3/5/2017</td>\n",
       "      <td>446314</td>\n",
       "      <td>1594712</td>\n",
       "      <td>2041418</td>\n",
       "      <td>1357736987</td>\n",
       "      <td>0</td>\n",
       "      <td>0</td>\n",
       "      <td>NaN</td>\n",
       "    </tr>\n",
       "  </tbody>\n",
       "</table>\n",
       "</div>"
      ],
      "text/plain": [
       "       Date  Views_show  Visitors  Views_platform  Ad_impression  \\\n",
       "0  3/1/2017      183738   1260228         1706478     1060860448   \n",
       "1  3/2/2017      193763   1270561         1690727     1031846645   \n",
       "2  3/3/2017      210479   1248183         1726157     1010867575   \n",
       "3  3/4/2017      240061   1492913         1855353     1079194579   \n",
       "4  3/5/2017      446314   1594712         2041418     1357736987   \n",
       "\n",
       "   Cricket_match_india  Character_A  Unnamed: 7  \n",
       "0                    0            0         NaN  \n",
       "1                    0            0         NaN  \n",
       "2                    0            0         NaN  \n",
       "3                    1            0         NaN  \n",
       "4                    0            0         NaN  "
      ]
     },
     "execution_count": 2,
     "metadata": {},
     "output_type": "execute_result"
    }
   ],
   "source": [
    "media = pd.read_csv('../input/media-company/mediacompany.csv')\n",
    "media.head()"
   ]
  },
  {
   "cell_type": "markdown",
   "id": "70e8bbcd",
   "metadata": {
    "papermill": {
     "duration": 0.015767,
     "end_time": "2022-11-18T02:33:40.572810",
     "exception": false,
     "start_time": "2022-11-18T02:33:40.557043",
     "status": "completed"
    },
    "tags": []
   },
   "source": [
    "# Exploratory Data Analysis"
   ]
  },
  {
   "cell_type": "code",
   "execution_count": 3,
   "id": "6120a305",
   "metadata": {
    "execution": {
     "iopub.execute_input": "2022-11-18T02:33:40.608588Z",
     "iopub.status.busy": "2022-11-18T02:33:40.608092Z",
     "iopub.status.idle": "2022-11-18T02:33:40.641739Z",
     "shell.execute_reply": "2022-11-18T02:33:40.639194Z"
    },
    "papermill": {
     "duration": 0.058124,
     "end_time": "2022-11-18T02:33:40.646343",
     "exception": false,
     "start_time": "2022-11-18T02:33:40.588219",
     "status": "completed"
    },
    "tags": []
   },
   "outputs": [
    {
     "name": "stdout",
     "output_type": "stream",
     "text": [
      "<class 'pandas.core.frame.DataFrame'>\n",
      "RangeIndex: 80 entries, 0 to 79\n",
      "Data columns (total 8 columns):\n",
      " #   Column               Non-Null Count  Dtype  \n",
      "---  ------               --------------  -----  \n",
      " 0   Date                 80 non-null     object \n",
      " 1   Views_show           80 non-null     int64  \n",
      " 2   Visitors             80 non-null     int64  \n",
      " 3   Views_platform       80 non-null     int64  \n",
      " 4   Ad_impression        80 non-null     int64  \n",
      " 5   Cricket_match_india  80 non-null     int64  \n",
      " 6   Character_A          80 non-null     int64  \n",
      " 7   Unnamed: 7           0 non-null      float64\n",
      "dtypes: float64(1), int64(6), object(1)\n",
      "memory usage: 5.1+ KB\n"
     ]
    }
   ],
   "source": [
    "media.info()"
   ]
  },
  {
   "cell_type": "code",
   "execution_count": 4,
   "id": "fd9ddee5",
   "metadata": {
    "execution": {
     "iopub.execute_input": "2022-11-18T02:33:40.683193Z",
     "iopub.status.busy": "2022-11-18T02:33:40.682772Z",
     "iopub.status.idle": "2022-11-18T02:33:40.693097Z",
     "shell.execute_reply": "2022-11-18T02:33:40.691008Z"
    },
    "papermill": {
     "duration": 0.034015,
     "end_time": "2022-11-18T02:33:40.697353",
     "exception": false,
     "start_time": "2022-11-18T02:33:40.663338",
     "status": "completed"
    },
    "tags": []
   },
   "outputs": [
    {
     "data": {
      "text/plain": [
       "(80, 8)"
      ]
     },
     "execution_count": 4,
     "metadata": {},
     "output_type": "execute_result"
    }
   ],
   "source": [
    "media.shape"
   ]
  },
  {
   "cell_type": "code",
   "execution_count": 5,
   "id": "f65aaa12",
   "metadata": {
    "execution": {
     "iopub.execute_input": "2022-11-18T02:33:40.749411Z",
     "iopub.status.busy": "2022-11-18T02:33:40.748672Z",
     "iopub.status.idle": "2022-11-18T02:33:40.805134Z",
     "shell.execute_reply": "2022-11-18T02:33:40.803431Z"
    },
    "papermill": {
     "duration": 0.085915,
     "end_time": "2022-11-18T02:33:40.811855",
     "exception": false,
     "start_time": "2022-11-18T02:33:40.725940",
     "status": "completed"
    },
    "tags": []
   },
   "outputs": [
    {
     "data": {
      "text/html": [
       "<div>\n",
       "<style scoped>\n",
       "    .dataframe tbody tr th:only-of-type {\n",
       "        vertical-align: middle;\n",
       "    }\n",
       "\n",
       "    .dataframe tbody tr th {\n",
       "        vertical-align: top;\n",
       "    }\n",
       "\n",
       "    .dataframe thead th {\n",
       "        text-align: right;\n",
       "    }\n",
       "</style>\n",
       "<table border=\"1\" class=\"dataframe\">\n",
       "  <thead>\n",
       "    <tr style=\"text-align: right;\">\n",
       "      <th></th>\n",
       "      <th>Views_show</th>\n",
       "      <th>Visitors</th>\n",
       "      <th>Views_platform</th>\n",
       "      <th>Ad_impression</th>\n",
       "      <th>Cricket_match_india</th>\n",
       "      <th>Character_A</th>\n",
       "      <th>Unnamed: 7</th>\n",
       "    </tr>\n",
       "  </thead>\n",
       "  <tbody>\n",
       "    <tr>\n",
       "      <th>count</th>\n",
       "      <td>80.000000</td>\n",
       "      <td>8.000000e+01</td>\n",
       "      <td>8.000000e+01</td>\n",
       "      <td>8.000000e+01</td>\n",
       "      <td>80.000000</td>\n",
       "      <td>80.000000</td>\n",
       "      <td>0.0</td>\n",
       "    </tr>\n",
       "    <tr>\n",
       "      <th>mean</th>\n",
       "      <td>289902.625000</td>\n",
       "      <td>1.699066e+06</td>\n",
       "      <td>2.222401e+06</td>\n",
       "      <td>1.442374e+09</td>\n",
       "      <td>0.100000</td>\n",
       "      <td>0.375000</td>\n",
       "      <td>NaN</td>\n",
       "    </tr>\n",
       "    <tr>\n",
       "      <th>std</th>\n",
       "      <td>154924.323585</td>\n",
       "      <td>2.311571e+05</td>\n",
       "      <td>2.913510e+05</td>\n",
       "      <td>2.983186e+08</td>\n",
       "      <td>0.301893</td>\n",
       "      <td>0.487177</td>\n",
       "      <td>NaN</td>\n",
       "    </tr>\n",
       "    <tr>\n",
       "      <th>min</th>\n",
       "      <td>102520.000000</td>\n",
       "      <td>1.248183e+06</td>\n",
       "      <td>1.690727e+06</td>\n",
       "      <td>1.010868e+09</td>\n",
       "      <td>0.000000</td>\n",
       "      <td>0.000000</td>\n",
       "      <td>NaN</td>\n",
       "    </tr>\n",
       "    <tr>\n",
       "      <th>25%</th>\n",
       "      <td>185353.250000</td>\n",
       "      <td>1.550766e+06</td>\n",
       "      <td>2.010816e+06</td>\n",
       "      <td>1.207911e+09</td>\n",
       "      <td>0.000000</td>\n",
       "      <td>0.000000</td>\n",
       "      <td>NaN</td>\n",
       "    </tr>\n",
       "    <tr>\n",
       "      <th>50%</th>\n",
       "      <td>235807.000000</td>\n",
       "      <td>1.698843e+06</td>\n",
       "      <td>2.226270e+06</td>\n",
       "      <td>1.385931e+09</td>\n",
       "      <td>0.000000</td>\n",
       "      <td>0.000000</td>\n",
       "      <td>NaN</td>\n",
       "    </tr>\n",
       "    <tr>\n",
       "      <th>75%</th>\n",
       "      <td>350079.000000</td>\n",
       "      <td>1.817895e+06</td>\n",
       "      <td>2.388837e+06</td>\n",
       "      <td>1.632416e+09</td>\n",
       "      <td>0.000000</td>\n",
       "      <td>1.000000</td>\n",
       "      <td>NaN</td>\n",
       "    </tr>\n",
       "    <tr>\n",
       "      <th>max</th>\n",
       "      <td>758631.000000</td>\n",
       "      <td>2.344650e+06</td>\n",
       "      <td>3.064422e+06</td>\n",
       "      <td>2.424203e+09</td>\n",
       "      <td>1.000000</td>\n",
       "      <td>1.000000</td>\n",
       "      <td>NaN</td>\n",
       "    </tr>\n",
       "  </tbody>\n",
       "</table>\n",
       "</div>"
      ],
      "text/plain": [
       "          Views_show      Visitors  Views_platform  Ad_impression  \\\n",
       "count      80.000000  8.000000e+01    8.000000e+01   8.000000e+01   \n",
       "mean   289902.625000  1.699066e+06    2.222401e+06   1.442374e+09   \n",
       "std    154924.323585  2.311571e+05    2.913510e+05   2.983186e+08   \n",
       "min    102520.000000  1.248183e+06    1.690727e+06   1.010868e+09   \n",
       "25%    185353.250000  1.550766e+06    2.010816e+06   1.207911e+09   \n",
       "50%    235807.000000  1.698843e+06    2.226270e+06   1.385931e+09   \n",
       "75%    350079.000000  1.817895e+06    2.388837e+06   1.632416e+09   \n",
       "max    758631.000000  2.344650e+06    3.064422e+06   2.424203e+09   \n",
       "\n",
       "       Cricket_match_india  Character_A  Unnamed: 7  \n",
       "count            80.000000    80.000000         0.0  \n",
       "mean              0.100000     0.375000         NaN  \n",
       "std               0.301893     0.487177         NaN  \n",
       "min               0.000000     0.000000         NaN  \n",
       "25%               0.000000     0.000000         NaN  \n",
       "50%               0.000000     0.000000         NaN  \n",
       "75%               0.000000     1.000000         NaN  \n",
       "max               1.000000     1.000000         NaN  "
      ]
     },
     "execution_count": 5,
     "metadata": {},
     "output_type": "execute_result"
    }
   ],
   "source": [
    "media.describe()"
   ]
  },
  {
   "cell_type": "code",
   "execution_count": 6,
   "id": "af6ef089",
   "metadata": {
    "execution": {
     "iopub.execute_input": "2022-11-18T02:33:40.849583Z",
     "iopub.status.busy": "2022-11-18T02:33:40.848507Z",
     "iopub.status.idle": "2022-11-18T02:33:40.864141Z",
     "shell.execute_reply": "2022-11-18T02:33:40.862344Z"
    },
    "papermill": {
     "duration": 0.037807,
     "end_time": "2022-11-18T02:33:40.867455",
     "exception": false,
     "start_time": "2022-11-18T02:33:40.829648",
     "status": "completed"
    },
    "tags": []
   },
   "outputs": [
    {
     "data": {
      "text/plain": [
       "Date                    0\n",
       "Views_show              0\n",
       "Visitors                0\n",
       "Views_platform          0\n",
       "Ad_impression           0\n",
       "Cricket_match_india     0\n",
       "Character_A             0\n",
       "Unnamed: 7             80\n",
       "dtype: int64"
      ]
     },
     "execution_count": 6,
     "metadata": {},
     "output_type": "execute_result"
    }
   ],
   "source": [
    "media.isnull().sum()"
   ]
  },
  {
   "cell_type": "code",
   "execution_count": 7,
   "id": "f3bf0182",
   "metadata": {
    "execution": {
     "iopub.execute_input": "2022-11-18T02:33:40.908559Z",
     "iopub.status.busy": "2022-11-18T02:33:40.907965Z",
     "iopub.status.idle": "2022-11-18T02:33:40.921648Z",
     "shell.execute_reply": "2022-11-18T02:33:40.920261Z"
    },
    "papermill": {
     "duration": 0.038303,
     "end_time": "2022-11-18T02:33:40.924235",
     "exception": false,
     "start_time": "2022-11-18T02:33:40.885932",
     "status": "completed"
    },
    "tags": []
   },
   "outputs": [
    {
     "data": {
      "text/plain": [
       "False"
      ]
     },
     "execution_count": 7,
     "metadata": {},
     "output_type": "execute_result"
    }
   ],
   "source": [
    "##check duplicate values\n",
    "media_dup=media.duplicated().any()\n",
    "media_dup"
   ]
  },
  {
   "cell_type": "code",
   "execution_count": 8,
   "id": "a83bc64c",
   "metadata": {
    "execution": {
     "iopub.execute_input": "2022-11-18T02:33:40.958389Z",
     "iopub.status.busy": "2022-11-18T02:33:40.956978Z",
     "iopub.status.idle": "2022-11-18T02:33:40.969231Z",
     "shell.execute_reply": "2022-11-18T02:33:40.968098Z"
    },
    "papermill": {
     "duration": 0.032415,
     "end_time": "2022-11-18T02:33:40.971798",
     "exception": false,
     "start_time": "2022-11-18T02:33:40.939383",
     "status": "completed"
    },
    "tags": []
   },
   "outputs": [
    {
     "data": {
      "text/plain": [
       "183738    1\n",
       "193763    1\n",
       "162815    1\n",
       "164043    1\n",
       "208445    1\n",
       "         ..\n",
       "650563    1\n",
       "236106    1\n",
       "206830    1\n",
       "200993    1\n",
       "108961    1\n",
       "Name: Views_show, Length: 80, dtype: int64"
      ]
     },
     "execution_count": 8,
     "metadata": {},
     "output_type": "execute_result"
    }
   ],
   "source": [
    "##target variable\n",
    "media.Views_show.value_counts()"
   ]
  },
  {
   "cell_type": "code",
   "execution_count": 9,
   "id": "e528004e",
   "metadata": {
    "execution": {
     "iopub.execute_input": "2022-11-18T02:33:41.011754Z",
     "iopub.status.busy": "2022-11-18T02:33:41.010059Z",
     "iopub.status.idle": "2022-11-18T02:33:42.623066Z",
     "shell.execute_reply": "2022-11-18T02:33:42.621527Z"
    },
    "papermill": {
     "duration": 1.637653,
     "end_time": "2022-11-18T02:33:42.625950",
     "exception": false,
     "start_time": "2022-11-18T02:33:40.988297",
     "status": "completed"
    },
    "tags": []
   },
   "outputs": [
    {
     "name": "stderr",
     "output_type": "stream",
     "text": [
      "/opt/conda/lib/python3.7/site-packages/seaborn/_decorators.py:43: FutureWarning: Pass the following variable as a keyword arg: x. From version 0.12, the only valid positional argument will be `data`, and passing other arguments without an explicit keyword will result in an error or misinterpretation.\n",
      "  FutureWarning\n"
     ]
    },
    {
     "data": {
      "text/plain": [
       "<AxesSubplot:xlabel='Views_show', ylabel='count'>"
      ]
     },
     "execution_count": 9,
     "metadata": {},
     "output_type": "execute_result"
    },
    {
     "data": {
      "image/png": "[encoded data removed]",
      "text/plain": [
       "<Figure size 2160x1080 with 1 Axes>"
      ]
     },
     "metadata": {
      "needs_background": "light"
     },
     "output_type": "display_data"
    }
   ],
   "source": [
    "plt.figure(figsize=(30,15))\n",
    "sns.countplot(media['Views_show'])"
   ]
  },
  {
   "cell_type": "markdown",
   "id": "7c03ec4a",
   "metadata": {
    "papermill": {
     "duration": 0.01846,
     "end_time": "2022-11-18T02:33:42.661232",
     "exception": false,
     "start_time": "2022-11-18T02:33:42.642772",
     "status": "completed"
    },
    "tags": []
   },
   "source": [
    "Categorical variables"
   ]
  },
  {
   "cell_type": "code",
   "execution_count": 10,
   "id": "8f0a0644",
   "metadata": {
    "execution": {
     "iopub.execute_input": "2022-11-18T02:33:42.703682Z",
     "iopub.status.busy": "2022-11-18T02:33:42.703232Z",
     "iopub.status.idle": "2022-11-18T02:33:42.721577Z",
     "shell.execute_reply": "2022-11-18T02:33:42.720085Z"
    },
    "papermill": {
     "duration": 0.042887,
     "end_time": "2022-11-18T02:33:42.724863",
     "exception": false,
     "start_time": "2022-11-18T02:33:42.681976",
     "status": "completed"
    },
    "tags": []
   },
   "outputs": [
    {
     "data": {
      "text/html": [
       "<div>\n",
       "<style scoped>\n",
       "    .dataframe tbody tr th:only-of-type {\n",
       "        vertical-align: middle;\n",
       "    }\n",
       "\n",
       "    .dataframe tbody tr th {\n",
       "        vertical-align: top;\n",
       "    }\n",
       "\n",
       "    .dataframe thead th {\n",
       "        text-align: right;\n",
       "    }\n",
       "</style>\n",
       "<table border=\"1\" class=\"dataframe\">\n",
       "  <thead>\n",
       "    <tr style=\"text-align: right;\">\n",
       "      <th></th>\n",
       "      <th>Date</th>\n",
       "    </tr>\n",
       "  </thead>\n",
       "  <tbody>\n",
       "    <tr>\n",
       "      <th>0</th>\n",
       "      <td>3/1/2017</td>\n",
       "    </tr>\n",
       "    <tr>\n",
       "      <th>1</th>\n",
       "      <td>3/2/2017</td>\n",
       "    </tr>\n",
       "    <tr>\n",
       "      <th>2</th>\n",
       "      <td>3/3/2017</td>\n",
       "    </tr>\n",
       "    <tr>\n",
       "      <th>3</th>\n",
       "      <td>3/4/2017</td>\n",
       "    </tr>\n",
       "    <tr>\n",
       "      <th>4</th>\n",
       "      <td>3/5/2017</td>\n",
       "    </tr>\n",
       "    <tr>\n",
       "      <th>...</th>\n",
       "      <td>...</td>\n",
       "    </tr>\n",
       "    <tr>\n",
       "      <th>75</th>\n",
       "      <td>5/15/2017</td>\n",
       "    </tr>\n",
       "    <tr>\n",
       "      <th>76</th>\n",
       "      <td>5/16/2017</td>\n",
       "    </tr>\n",
       "    <tr>\n",
       "      <th>77</th>\n",
       "      <td>5/17/2017</td>\n",
       "    </tr>\n",
       "    <tr>\n",
       "      <th>78</th>\n",
       "      <td>5/18/2017</td>\n",
       "    </tr>\n",
       "    <tr>\n",
       "      <th>79</th>\n",
       "      <td>5/19/2017</td>\n",
       "    </tr>\n",
       "  </tbody>\n",
       "</table>\n",
       "<p>80 rows × 1 columns</p>\n",
       "</div>"
      ],
      "text/plain": [
       "         Date\n",
       "0    3/1/2017\n",
       "1    3/2/2017\n",
       "2    3/3/2017\n",
       "3    3/4/2017\n",
       "4    3/5/2017\n",
       "..        ...\n",
       "75  5/15/2017\n",
       "76  5/16/2017\n",
       "77  5/17/2017\n",
       "78  5/18/2017\n",
       "79  5/19/2017\n",
       "\n",
       "[80 rows x 1 columns]"
      ]
     },
     "execution_count": 10,
     "metadata": {},
     "output_type": "execute_result"
    }
   ],
   "source": [
    "media_categorical=media.loc[:,media.dtypes== object]\n",
    "media_categorical"
   ]
  },
  {
   "cell_type": "markdown",
   "id": "a2110e55",
   "metadata": {
    "papermill": {
     "duration": 0.017825,
     "end_time": "2022-11-18T02:33:42.759895",
     "exception": false,
     "start_time": "2022-11-18T02:33:42.742070",
     "status": "completed"
    },
    "tags": []
   },
   "source": [
    "Numerical features"
   ]
  },
  {
   "cell_type": "code",
   "execution_count": 11,
   "id": "e33ab88a",
   "metadata": {
    "execution": {
     "iopub.execute_input": "2022-11-18T02:33:42.801336Z",
     "iopub.status.busy": "2022-11-18T02:33:42.800884Z",
     "iopub.status.idle": "2022-11-18T02:33:42.820598Z",
     "shell.execute_reply": "2022-11-18T02:33:42.818758Z"
    },
    "papermill": {
     "duration": 0.043986,
     "end_time": "2022-11-18T02:33:42.823477",
     "exception": false,
     "start_time": "2022-11-18T02:33:42.779491",
     "status": "completed"
    },
    "tags": []
   },
   "outputs": [
    {
     "data": {
      "text/html": [
       "<div>\n",
       "<style scoped>\n",
       "    .dataframe tbody tr th:only-of-type {\n",
       "        vertical-align: middle;\n",
       "    }\n",
       "\n",
       "    .dataframe tbody tr th {\n",
       "        vertical-align: top;\n",
       "    }\n",
       "\n",
       "    .dataframe thead th {\n",
       "        text-align: right;\n",
       "    }\n",
       "</style>\n",
       "<table border=\"1\" class=\"dataframe\">\n",
       "  <thead>\n",
       "    <tr style=\"text-align: right;\">\n",
       "      <th></th>\n",
       "      <th>Views_show</th>\n",
       "      <th>Visitors</th>\n",
       "      <th>Views_platform</th>\n",
       "      <th>Ad_impression</th>\n",
       "      <th>Cricket_match_india</th>\n",
       "      <th>Character_A</th>\n",
       "      <th>Unnamed: 7</th>\n",
       "    </tr>\n",
       "  </thead>\n",
       "  <tbody>\n",
       "    <tr>\n",
       "      <th>0</th>\n",
       "      <td>183738</td>\n",
       "      <td>1260228</td>\n",
       "      <td>1706478</td>\n",
       "      <td>1060860448</td>\n",
       "      <td>0</td>\n",
       "      <td>0</td>\n",
       "      <td>NaN</td>\n",
       "    </tr>\n",
       "    <tr>\n",
       "      <th>1</th>\n",
       "      <td>193763</td>\n",
       "      <td>1270561</td>\n",
       "      <td>1690727</td>\n",
       "      <td>1031846645</td>\n",
       "      <td>0</td>\n",
       "      <td>0</td>\n",
       "      <td>NaN</td>\n",
       "    </tr>\n",
       "    <tr>\n",
       "      <th>2</th>\n",
       "      <td>210479</td>\n",
       "      <td>1248183</td>\n",
       "      <td>1726157</td>\n",
       "      <td>1010867575</td>\n",
       "      <td>0</td>\n",
       "      <td>0</td>\n",
       "      <td>NaN</td>\n",
       "    </tr>\n",
       "    <tr>\n",
       "      <th>3</th>\n",
       "      <td>240061</td>\n",
       "      <td>1492913</td>\n",
       "      <td>1855353</td>\n",
       "      <td>1079194579</td>\n",
       "      <td>1</td>\n",
       "      <td>0</td>\n",
       "      <td>NaN</td>\n",
       "    </tr>\n",
       "    <tr>\n",
       "      <th>4</th>\n",
       "      <td>446314</td>\n",
       "      <td>1594712</td>\n",
       "      <td>2041418</td>\n",
       "      <td>1357736987</td>\n",
       "      <td>0</td>\n",
       "      <td>0</td>\n",
       "      <td>NaN</td>\n",
       "    </tr>\n",
       "    <tr>\n",
       "      <th>...</th>\n",
       "      <td>...</td>\n",
       "      <td>...</td>\n",
       "      <td>...</td>\n",
       "      <td>...</td>\n",
       "      <td>...</td>\n",
       "      <td>...</td>\n",
       "      <td>...</td>\n",
       "    </tr>\n",
       "    <tr>\n",
       "      <th>75</th>\n",
       "      <td>313945</td>\n",
       "      <td>1808684</td>\n",
       "      <td>2226788</td>\n",
       "      <td>1398052759</td>\n",
       "      <td>1</td>\n",
       "      <td>0</td>\n",
       "      <td>NaN</td>\n",
       "    </tr>\n",
       "    <tr>\n",
       "      <th>76</th>\n",
       "      <td>185689</td>\n",
       "      <td>1814227</td>\n",
       "      <td>2199844</td>\n",
       "      <td>1311961223</td>\n",
       "      <td>1</td>\n",
       "      <td>0</td>\n",
       "      <td>NaN</td>\n",
       "    </tr>\n",
       "    <tr>\n",
       "      <th>77</th>\n",
       "      <td>142260</td>\n",
       "      <td>1755803</td>\n",
       "      <td>2225752</td>\n",
       "      <td>1248266254</td>\n",
       "      <td>1</td>\n",
       "      <td>0</td>\n",
       "      <td>NaN</td>\n",
       "    </tr>\n",
       "    <tr>\n",
       "      <th>78</th>\n",
       "      <td>135871</td>\n",
       "      <td>1749654</td>\n",
       "      <td>2302789</td>\n",
       "      <td>1284859759</td>\n",
       "      <td>1</td>\n",
       "      <td>0</td>\n",
       "      <td>NaN</td>\n",
       "    </tr>\n",
       "    <tr>\n",
       "      <th>79</th>\n",
       "      <td>108961</td>\n",
       "      <td>1746735</td>\n",
       "      <td>2279036</td>\n",
       "      <td>1246026846</td>\n",
       "      <td>1</td>\n",
       "      <td>0</td>\n",
       "      <td>NaN</td>\n",
       "    </tr>\n",
       "  </tbody>\n",
       "</table>\n",
       "<p>80 rows × 7 columns</p>\n",
       "</div>"
      ],
      "text/plain": [
       "    Views_show  Visitors  Views_platform  Ad_impression  Cricket_match_india  \\\n",
       "0       183738   1260228         1706478     1060860448                    0   \n",
       "1       193763   1270561         1690727     1031846645                    0   \n",
       "2       210479   1248183         1726157     1010867575                    0   \n",
       "3       240061   1492913         1855353     1079194579                    1   \n",
       "4       446314   1594712         2041418     1357736987                    0   \n",
       "..         ...       ...             ...            ...                  ...   \n",
       "75      313945   1808684         2226788     1398052759                    1   \n",
       "76      185689   1814227         2199844     1311961223                    1   \n",
       "77      142260   1755803         2225752     1248266254                    1   \n",
       "78      135871   1749654         2302789     1284859759                    1   \n",
       "79      108961   1746735         2279036     1246026846                    1   \n",
       "\n",
       "    Character_A  Unnamed: 7  \n",
       "0             0         NaN  \n",
       "1             0         NaN  \n",
       "2             0         NaN  \n",
       "3             0         NaN  \n",
       "4             0         NaN  \n",
       "..          ...         ...  \n",
       "75            0         NaN  \n",
       "76            0         NaN  \n",
       "77            0         NaN  \n",
       "78            0         NaN  \n",
       "79            0         NaN  \n",
       "\n",
       "[80 rows x 7 columns]"
      ]
     },
     "execution_count": 11,
     "metadata": {},
     "output_type": "execute_result"
    }
   ],
   "source": [
    "media_numerical = media.select_dtypes(exclude=[object])\n",
    "media_numerical"
   ]
  },
  {
   "cell_type": "markdown",
   "id": "8f86c465",
   "metadata": {
    "papermill": {
     "duration": 0.016957,
     "end_time": "2022-11-18T02:33:42.857414",
     "exception": false,
     "start_time": "2022-11-18T02:33:42.840457",
     "status": "completed"
    },
    "tags": []
   },
   "source": [
    "Converting date to Pandas datetime format"
   ]
  },
  {
   "cell_type": "code",
   "execution_count": 12,
   "id": "c4c0a948",
   "metadata": {
    "execution": {
     "iopub.execute_input": "2022-11-18T02:33:42.897810Z",
     "iopub.status.busy": "2022-11-18T02:33:42.897248Z",
     "iopub.status.idle": "2022-11-18T02:33:42.918083Z",
     "shell.execute_reply": "2022-11-18T02:33:42.916963Z"
    },
    "papermill": {
     "duration": 0.047098,
     "end_time": "2022-11-18T02:33:42.921914",
     "exception": false,
     "start_time": "2022-11-18T02:33:42.874816",
     "status": "completed"
    },
    "tags": []
   },
   "outputs": [],
   "source": [
    "media['Date'] = pd.to_datetime(media['Date'], dayfirst = False )\n",
    "# Date is in the format YYYY-MM-DD"
   ]
  },
  {
   "cell_type": "code",
   "execution_count": 13,
   "id": "257b5157",
   "metadata": {
    "execution": {
     "iopub.execute_input": "2022-11-18T02:33:42.961527Z",
     "iopub.status.busy": "2022-11-18T02:33:42.961051Z",
     "iopub.status.idle": "2022-11-18T02:33:42.982851Z",
     "shell.execute_reply": "2022-11-18T02:33:42.979954Z"
    },
    "papermill": {
     "duration": 0.046317,
     "end_time": "2022-11-18T02:33:42.986330",
     "exception": false,
     "start_time": "2022-11-18T02:33:42.940013",
     "status": "completed"
    },
    "tags": []
   },
   "outputs": [
    {
     "data": {
      "text/html": [
       "<div>\n",
       "<style scoped>\n",
       "    .dataframe tbody tr th:only-of-type {\n",
       "        vertical-align: middle;\n",
       "    }\n",
       "\n",
       "    .dataframe tbody tr th {\n",
       "        vertical-align: top;\n",
       "    }\n",
       "\n",
       "    .dataframe thead th {\n",
       "        text-align: right;\n",
       "    }\n",
       "</style>\n",
       "<table border=\"1\" class=\"dataframe\">\n",
       "  <thead>\n",
       "    <tr style=\"text-align: right;\">\n",
       "      <th></th>\n",
       "      <th>Date</th>\n",
       "      <th>Views_show</th>\n",
       "      <th>Visitors</th>\n",
       "      <th>Views_platform</th>\n",
       "      <th>Ad_impression</th>\n",
       "      <th>Cricket_match_india</th>\n",
       "      <th>Character_A</th>\n",
       "      <th>Unnamed: 7</th>\n",
       "    </tr>\n",
       "  </thead>\n",
       "  <tbody>\n",
       "    <tr>\n",
       "      <th>0</th>\n",
       "      <td>2017-03-01</td>\n",
       "      <td>183738</td>\n",
       "      <td>1260228</td>\n",
       "      <td>1706478</td>\n",
       "      <td>1060860448</td>\n",
       "      <td>0</td>\n",
       "      <td>0</td>\n",
       "      <td>NaN</td>\n",
       "    </tr>\n",
       "    <tr>\n",
       "      <th>1</th>\n",
       "      <td>2017-03-02</td>\n",
       "      <td>193763</td>\n",
       "      <td>1270561</td>\n",
       "      <td>1690727</td>\n",
       "      <td>1031846645</td>\n",
       "      <td>0</td>\n",
       "      <td>0</td>\n",
       "      <td>NaN</td>\n",
       "    </tr>\n",
       "    <tr>\n",
       "      <th>2</th>\n",
       "      <td>2017-03-03</td>\n",
       "      <td>210479</td>\n",
       "      <td>1248183</td>\n",
       "      <td>1726157</td>\n",
       "      <td>1010867575</td>\n",
       "      <td>0</td>\n",
       "      <td>0</td>\n",
       "      <td>NaN</td>\n",
       "    </tr>\n",
       "    <tr>\n",
       "      <th>3</th>\n",
       "      <td>2017-03-04</td>\n",
       "      <td>240061</td>\n",
       "      <td>1492913</td>\n",
       "      <td>1855353</td>\n",
       "      <td>1079194579</td>\n",
       "      <td>1</td>\n",
       "      <td>0</td>\n",
       "      <td>NaN</td>\n",
       "    </tr>\n",
       "    <tr>\n",
       "      <th>4</th>\n",
       "      <td>2017-03-05</td>\n",
       "      <td>446314</td>\n",
       "      <td>1594712</td>\n",
       "      <td>2041418</td>\n",
       "      <td>1357736987</td>\n",
       "      <td>0</td>\n",
       "      <td>0</td>\n",
       "      <td>NaN</td>\n",
       "    </tr>\n",
       "  </tbody>\n",
       "</table>\n",
       "</div>"
      ],
      "text/plain": [
       "        Date  Views_show  Visitors  Views_platform  Ad_impression  \\\n",
       "0 2017-03-01      183738   1260228         1706478     1060860448   \n",
       "1 2017-03-02      193763   1270561         1690727     1031846645   \n",
       "2 2017-03-03      210479   1248183         1726157     1010867575   \n",
       "3 2017-03-04      240061   1492913         1855353     1079194579   \n",
       "4 2017-03-05      446314   1594712         2041418     1357736987   \n",
       "\n",
       "   Cricket_match_india  Character_A  Unnamed: 7  \n",
       "0                    0            0         NaN  \n",
       "1                    0            0         NaN  \n",
       "2                    0            0         NaN  \n",
       "3                    1            0         NaN  \n",
       "4                    0            0         NaN  "
      ]
     },
     "execution_count": 13,
     "metadata": {},
     "output_type": "execute_result"
    }
   ],
   "source": [
    "media.head()"
   ]
  },
  {
   "cell_type": "markdown",
   "id": "426bcdb2",
   "metadata": {
    "papermill": {
     "duration": 0.018079,
     "end_time": "2022-11-18T02:33:43.022390",
     "exception": false,
     "start_time": "2022-11-18T02:33:43.004311",
     "status": "completed"
    },
    "tags": []
   },
   "source": [
    "Deriving Matrices\n",
    "\n",
    "Let's derive day of week column from date"
   ]
  },
  {
   "cell_type": "code",
   "execution_count": 14,
   "id": "1d581e99",
   "metadata": {
    "execution": {
     "iopub.execute_input": "2022-11-18T02:33:43.059694Z",
     "iopub.status.busy": "2022-11-18T02:33:43.059128Z",
     "iopub.status.idle": "2022-11-18T02:33:43.068719Z",
     "shell.execute_reply": "2022-11-18T02:33:43.067016Z"
    },
    "papermill": {
     "duration": 0.03168,
     "end_time": "2022-11-18T02:33:43.071517",
     "exception": false,
     "start_time": "2022-11-18T02:33:43.039837",
     "status": "completed"
    },
    "tags": []
   },
   "outputs": [],
   "source": [
    "media['Day_of_week'] = media['Date'].dt.dayofweek"
   ]
  },
  {
   "cell_type": "code",
   "execution_count": 15,
   "id": "ba1d5783",
   "metadata": {
    "execution": {
     "iopub.execute_input": "2022-11-18T02:33:43.108842Z",
     "iopub.status.busy": "2022-11-18T02:33:43.108356Z",
     "iopub.status.idle": "2022-11-18T02:33:43.127795Z",
     "shell.execute_reply": "2022-11-18T02:33:43.126250Z"
    },
    "papermill": {
     "duration": 0.042593,
     "end_time": "2022-11-18T02:33:43.130894",
     "exception": false,
     "start_time": "2022-11-18T02:33:43.088301",
     "status": "completed"
    },
    "tags": []
   },
   "outputs": [
    {
     "data": {
      "text/html": [
       "<div>\n",
       "<style scoped>\n",
       "    .dataframe tbody tr th:only-of-type {\n",
       "        vertical-align: middle;\n",
       "    }\n",
       "\n",
       "    .dataframe tbody tr th {\n",
       "        vertical-align: top;\n",
       "    }\n",
       "\n",
       "    .dataframe thead th {\n",
       "        text-align: right;\n",
       "    }\n",
       "</style>\n",
       "<table border=\"1\" class=\"dataframe\">\n",
       "  <thead>\n",
       "    <tr style=\"text-align: right;\">\n",
       "      <th></th>\n",
       "      <th>Date</th>\n",
       "      <th>Views_show</th>\n",
       "      <th>Visitors</th>\n",
       "      <th>Views_platform</th>\n",
       "      <th>Ad_impression</th>\n",
       "      <th>Cricket_match_india</th>\n",
       "      <th>Character_A</th>\n",
       "      <th>Unnamed: 7</th>\n",
       "      <th>Day_of_week</th>\n",
       "    </tr>\n",
       "  </thead>\n",
       "  <tbody>\n",
       "    <tr>\n",
       "      <th>0</th>\n",
       "      <td>2017-03-01</td>\n",
       "      <td>183738</td>\n",
       "      <td>1260228</td>\n",
       "      <td>1706478</td>\n",
       "      <td>1060860448</td>\n",
       "      <td>0</td>\n",
       "      <td>0</td>\n",
       "      <td>NaN</td>\n",
       "      <td>2</td>\n",
       "    </tr>\n",
       "    <tr>\n",
       "      <th>1</th>\n",
       "      <td>2017-03-02</td>\n",
       "      <td>193763</td>\n",
       "      <td>1270561</td>\n",
       "      <td>1690727</td>\n",
       "      <td>1031846645</td>\n",
       "      <td>0</td>\n",
       "      <td>0</td>\n",
       "      <td>NaN</td>\n",
       "      <td>3</td>\n",
       "    </tr>\n",
       "    <tr>\n",
       "      <th>2</th>\n",
       "      <td>2017-03-03</td>\n",
       "      <td>210479</td>\n",
       "      <td>1248183</td>\n",
       "      <td>1726157</td>\n",
       "      <td>1010867575</td>\n",
       "      <td>0</td>\n",
       "      <td>0</td>\n",
       "      <td>NaN</td>\n",
       "      <td>4</td>\n",
       "    </tr>\n",
       "    <tr>\n",
       "      <th>3</th>\n",
       "      <td>2017-03-04</td>\n",
       "      <td>240061</td>\n",
       "      <td>1492913</td>\n",
       "      <td>1855353</td>\n",
       "      <td>1079194579</td>\n",
       "      <td>1</td>\n",
       "      <td>0</td>\n",
       "      <td>NaN</td>\n",
       "      <td>5</td>\n",
       "    </tr>\n",
       "    <tr>\n",
       "      <th>4</th>\n",
       "      <td>2017-03-05</td>\n",
       "      <td>446314</td>\n",
       "      <td>1594712</td>\n",
       "      <td>2041418</td>\n",
       "      <td>1357736987</td>\n",
       "      <td>0</td>\n",
       "      <td>0</td>\n",
       "      <td>NaN</td>\n",
       "      <td>6</td>\n",
       "    </tr>\n",
       "  </tbody>\n",
       "</table>\n",
       "</div>"
      ],
      "text/plain": [
       "        Date  Views_show  Visitors  Views_platform  Ad_impression  \\\n",
       "0 2017-03-01      183738   1260228         1706478     1060860448   \n",
       "1 2017-03-02      193763   1270561         1690727     1031846645   \n",
       "2 2017-03-03      210479   1248183         1726157     1010867575   \n",
       "3 2017-03-04      240061   1492913         1855353     1079194579   \n",
       "4 2017-03-05      446314   1594712         2041418     1357736987   \n",
       "\n",
       "   Cricket_match_india  Character_A  Unnamed: 7  Day_of_week  \n",
       "0                    0            0         NaN            2  \n",
       "1                    0            0         NaN            3  \n",
       "2                    0            0         NaN            4  \n",
       "3                    1            0         NaN            5  \n",
       "4                    0            0         NaN            6  "
      ]
     },
     "execution_count": 15,
     "metadata": {},
     "output_type": "execute_result"
    }
   ],
   "source": [
    "media.head()"
   ]
  },
  {
   "cell_type": "markdown",
   "id": "bc73b249",
   "metadata": {
    "papermill": {
     "duration": 0.017969,
     "end_time": "2022-11-18T02:33:43.168566",
     "exception": false,
     "start_time": "2022-11-18T02:33:43.150597",
     "status": "completed"
    },
    "tags": []
   },
   "source": [
    "# Visualizing categorical column with bar plot"
   ]
  },
  {
   "cell_type": "code",
   "execution_count": 16,
   "id": "146d0b04",
   "metadata": {
    "execution": {
     "iopub.execute_input": "2022-11-18T02:33:43.210211Z",
     "iopub.status.busy": "2022-11-18T02:33:43.209785Z",
     "iopub.status.idle": "2022-11-18T02:33:45.604308Z",
     "shell.execute_reply": "2022-11-18T02:33:45.602455Z"
    },
    "papermill": {
     "duration": 2.41976,
     "end_time": "2022-11-18T02:33:45.608033",
     "exception": false,
     "start_time": "2022-11-18T02:33:43.188273",
     "status": "completed"
    },
    "tags": []
   },
   "outputs": [
    {
     "data": {
      "text/plain": [
       "<AxesSubplot:xlabel='Date', ylabel='Views_show'>"
      ]
     },
     "execution_count": 16,
     "metadata": {},
     "output_type": "execute_result"
    },
    {
     "data": {
      "image/png": "[encoded data removed]",
      "text/plain": [
       "<Figure size 2160x1440 with 1 Axes>"
      ]
     },
     "metadata": {
      "needs_background": "light"
     },
     "output_type": "display_data"
    }
   ],
   "source": [
    "#Date\n",
    "plt.figure(figsize=(30,20))\n",
    "sns.barplot(data = media,x='Date', y='Views_show')"
   ]
  },
  {
   "cell_type": "code",
   "execution_count": 17,
   "id": "fcc86645",
   "metadata": {
    "execution": {
     "iopub.execute_input": "2022-11-18T02:33:45.649519Z",
     "iopub.status.busy": "2022-11-18T02:33:45.649105Z",
     "iopub.status.idle": "2022-11-18T02:33:46.066589Z",
     "shell.execute_reply": "2022-11-18T02:33:46.065224Z"
    },
    "papermill": {
     "duration": 0.441095,
     "end_time": "2022-11-18T02:33:46.069185",
     "exception": false,
     "start_time": "2022-11-18T02:33:45.628090",
     "status": "completed"
    },
    "tags": []
   },
   "outputs": [
    {
     "data": {
      "text/plain": [
       "<AxesSubplot:xlabel='Day_of_week', ylabel='Views_show'>"
      ]
     },
     "execution_count": 17,
     "metadata": {},
     "output_type": "execute_result"
    },
    {
     "data": {
      "image/png": "[encoded data removed]",
      "text/plain": [
       "<Figure size 432x288 with 1 Axes>"
      ]
     },
     "metadata": {
      "needs_background": "light"
     },
     "output_type": "display_data"
    }
   ],
   "source": [
    "#Day of week\n",
    "sns.barplot(data = media,x='Day_of_week', y='Views_show')"
   ]
  },
  {
   "cell_type": "markdown",
   "id": "c4a1b0b7",
   "metadata": {
    "papermill": {
     "duration": 0.018648,
     "end_time": "2022-11-18T02:33:46.106725",
     "exception": false,
     "start_time": "2022-11-18T02:33:46.088077",
     "status": "completed"
    },
    "tags": []
   },
   "source": [
    "we can see that Views are more on 'Sunday' and 'Saturday'(weekends) and decline on subsequent days."
   ]
  },
  {
   "cell_type": "markdown",
   "id": "35471361",
   "metadata": {
    "papermill": {
     "duration": 0.017801,
     "end_time": "2022-11-18T02:33:46.144345",
     "exception": false,
     "start_time": "2022-11-18T02:33:46.126544",
     "status": "completed"
    },
    "tags": []
   },
   "source": [
    "Hence we can think of another matrix \"Weekend\" that is 1 for weekends and 0 for weekdays."
   ]
  },
  {
   "cell_type": "code",
   "execution_count": 18,
   "id": "6f5524bd",
   "metadata": {
    "execution": {
     "iopub.execute_input": "2022-11-18T02:33:46.185379Z",
     "iopub.status.busy": "2022-11-18T02:33:46.183846Z",
     "iopub.status.idle": "2022-11-18T02:33:46.195962Z",
     "shell.execute_reply": "2022-11-18T02:33:46.194382Z"
    },
    "papermill": {
     "duration": 0.036337,
     "end_time": "2022-11-18T02:33:46.199486",
     "exception": false,
     "start_time": "2022-11-18T02:33:46.163149",
     "status": "completed"
    },
    "tags": []
   },
   "outputs": [],
   "source": [
    "di = {5:1, 6:1, 0:0, 1:0, 2:0, 3:0, 4:0}\n",
    "media['weekend'] = media['Day_of_week'].map(di)"
   ]
  },
  {
   "cell_type": "code",
   "execution_count": 19,
   "id": "abddaf20",
   "metadata": {
    "execution": {
     "iopub.execute_input": "2022-11-18T02:33:46.242888Z",
     "iopub.status.busy": "2022-11-18T02:33:46.242160Z",
     "iopub.status.idle": "2022-11-18T02:33:46.259090Z",
     "shell.execute_reply": "2022-11-18T02:33:46.257559Z"
    },
    "papermill": {
     "duration": 0.042233,
     "end_time": "2022-11-18T02:33:46.261958",
     "exception": false,
     "start_time": "2022-11-18T02:33:46.219725",
     "status": "completed"
    },
    "tags": []
   },
   "outputs": [
    {
     "data": {
      "text/html": [
       "<div>\n",
       "<style scoped>\n",
       "    .dataframe tbody tr th:only-of-type {\n",
       "        vertical-align: middle;\n",
       "    }\n",
       "\n",
       "    .dataframe tbody tr th {\n",
       "        vertical-align: top;\n",
       "    }\n",
       "\n",
       "    .dataframe thead th {\n",
       "        text-align: right;\n",
       "    }\n",
       "</style>\n",
       "<table border=\"1\" class=\"dataframe\">\n",
       "  <thead>\n",
       "    <tr style=\"text-align: right;\">\n",
       "      <th></th>\n",
       "      <th>Date</th>\n",
       "      <th>Views_show</th>\n",
       "      <th>Visitors</th>\n",
       "      <th>Views_platform</th>\n",
       "      <th>Ad_impression</th>\n",
       "      <th>Cricket_match_india</th>\n",
       "      <th>Character_A</th>\n",
       "      <th>Unnamed: 7</th>\n",
       "      <th>Day_of_week</th>\n",
       "      <th>weekend</th>\n",
       "    </tr>\n",
       "  </thead>\n",
       "  <tbody>\n",
       "    <tr>\n",
       "      <th>0</th>\n",
       "      <td>2017-03-01</td>\n",
       "      <td>183738</td>\n",
       "      <td>1260228</td>\n",
       "      <td>1706478</td>\n",
       "      <td>1060860448</td>\n",
       "      <td>0</td>\n",
       "      <td>0</td>\n",
       "      <td>NaN</td>\n",
       "      <td>2</td>\n",
       "      <td>0</td>\n",
       "    </tr>\n",
       "    <tr>\n",
       "      <th>1</th>\n",
       "      <td>2017-03-02</td>\n",
       "      <td>193763</td>\n",
       "      <td>1270561</td>\n",
       "      <td>1690727</td>\n",
       "      <td>1031846645</td>\n",
       "      <td>0</td>\n",
       "      <td>0</td>\n",
       "      <td>NaN</td>\n",
       "      <td>3</td>\n",
       "      <td>0</td>\n",
       "    </tr>\n",
       "    <tr>\n",
       "      <th>2</th>\n",
       "      <td>2017-03-03</td>\n",
       "      <td>210479</td>\n",
       "      <td>1248183</td>\n",
       "      <td>1726157</td>\n",
       "      <td>1010867575</td>\n",
       "      <td>0</td>\n",
       "      <td>0</td>\n",
       "      <td>NaN</td>\n",
       "      <td>4</td>\n",
       "      <td>0</td>\n",
       "    </tr>\n",
       "    <tr>\n",
       "      <th>3</th>\n",
       "      <td>2017-03-04</td>\n",
       "      <td>240061</td>\n",
       "      <td>1492913</td>\n",
       "      <td>1855353</td>\n",
       "      <td>1079194579</td>\n",
       "      <td>1</td>\n",
       "      <td>0</td>\n",
       "      <td>NaN</td>\n",
       "      <td>5</td>\n",
       "      <td>1</td>\n",
       "    </tr>\n",
       "    <tr>\n",
       "      <th>4</th>\n",
       "      <td>2017-03-05</td>\n",
       "      <td>446314</td>\n",
       "      <td>1594712</td>\n",
       "      <td>2041418</td>\n",
       "      <td>1357736987</td>\n",
       "      <td>0</td>\n",
       "      <td>0</td>\n",
       "      <td>NaN</td>\n",
       "      <td>6</td>\n",
       "      <td>1</td>\n",
       "    </tr>\n",
       "  </tbody>\n",
       "</table>\n",
       "</div>"
      ],
      "text/plain": [
       "        Date  Views_show  Visitors  Views_platform  Ad_impression  \\\n",
       "0 2017-03-01      183738   1260228         1706478     1060860448   \n",
       "1 2017-03-02      193763   1270561         1690727     1031846645   \n",
       "2 2017-03-03      210479   1248183         1726157     1010867575   \n",
       "3 2017-03-04      240061   1492913         1855353     1079194579   \n",
       "4 2017-03-05      446314   1594712         2041418     1357736987   \n",
       "\n",
       "   Cricket_match_india  Character_A  Unnamed: 7  Day_of_week  weekend  \n",
       "0                    0            0         NaN            2        0  \n",
       "1                    0            0         NaN            3        0  \n",
       "2                    0            0         NaN            4        0  \n",
       "3                    1            0         NaN            5        1  \n",
       "4                    0            0         NaN            6        1  "
      ]
     },
     "execution_count": 19,
     "metadata": {},
     "output_type": "execute_result"
    }
   ],
   "source": [
    "media.head()"
   ]
  },
  {
   "cell_type": "code",
   "execution_count": 20,
   "id": "b4e5ecd8",
   "metadata": {
    "execution": {
     "iopub.execute_input": "2022-11-18T02:33:46.307149Z",
     "iopub.status.busy": "2022-11-18T02:33:46.306031Z",
     "iopub.status.idle": "2022-11-18T02:33:46.566021Z",
     "shell.execute_reply": "2022-11-18T02:33:46.564736Z"
    },
    "papermill": {
     "duration": 0.285872,
     "end_time": "2022-11-18T02:33:46.568666",
     "exception": false,
     "start_time": "2022-11-18T02:33:46.282794",
     "status": "completed"
    },
    "tags": []
   },
   "outputs": [
    {
     "data": {
      "text/plain": [
       "<AxesSubplot:xlabel='weekend', ylabel='Views_show'>"
      ]
     },
     "execution_count": 20,
     "metadata": {},
     "output_type": "execute_result"
    },
    {
     "data": {
      "image/png": "[encoded data removed]",
      "text/plain": [
       "<Figure size 432x288 with 1 Axes>"
      ]
     },
     "metadata": {
      "needs_background": "light"
     },
     "output_type": "display_data"
    }
   ],
   "source": [
    "# Weekends\n",
    "sns.barplot(data = media, x='weekend' , y='Views_show')"
   ]
  },
  {
   "cell_type": "code",
   "execution_count": 21,
   "id": "56ba798f",
   "metadata": {
    "execution": {
     "iopub.execute_input": "2022-11-18T02:33:46.613033Z",
     "iopub.status.busy": "2022-11-18T02:33:46.611830Z",
     "iopub.status.idle": "2022-11-18T02:33:47.448738Z",
     "shell.execute_reply": "2022-11-18T02:33:47.447263Z"
    },
    "papermill": {
     "duration": 0.863149,
     "end_time": "2022-11-18T02:33:47.451461",
     "exception": false,
     "start_time": "2022-11-18T02:33:46.588312",
     "status": "completed"
    },
    "tags": []
   },
   "outputs": [
    {
     "data": {
      "text/plain": [
       "<AxesSubplot:xlabel='Date'>"
      ]
     },
     "execution_count": 21,
     "metadata": {},
     "output_type": "execute_result"
    },
    {
     "data": {
      "text/plain": [
       "<Figure size 1440x1440 with 0 Axes>"
      ]
     },
     "metadata": {},
     "output_type": "display_data"
    },
    {
     "data": {
      "image/png": "[encoded data removed]",
      "text/plain": [
       "<Figure size 432x288 with 1 Axes>"
      ]
     },
     "metadata": {
      "needs_background": "light"
     },
     "output_type": "display_data"
    }
   ],
   "source": [
    "# days vs Views_show\n",
    "plt.figure(figsize=(20,20))\n",
    "media.plot.line(x='Date', y='Views_show')"
   ]
  },
  {
   "cell_type": "markdown",
   "id": "117143b4",
   "metadata": {
    "papermill": {
     "duration": 0.0204,
     "end_time": "2022-11-18T02:33:47.492044",
     "exception": false,
     "start_time": "2022-11-18T02:33:47.471644",
     "status": "completed"
    },
    "tags": []
   },
   "source": [
    "# Affection of categorical features on charges"
   ]
  },
  {
   "cell_type": "code",
   "execution_count": 22,
   "id": "9130d447",
   "metadata": {
    "execution": {
     "iopub.execute_input": "2022-11-18T02:33:47.534473Z",
     "iopub.status.busy": "2022-11-18T02:33:47.533934Z",
     "iopub.status.idle": "2022-11-18T02:33:48.045612Z",
     "shell.execute_reply": "2022-11-18T02:33:48.044232Z"
    },
    "papermill": {
     "duration": 0.536183,
     "end_time": "2022-11-18T02:33:48.048667",
     "exception": false,
     "start_time": "2022-11-18T02:33:47.512484",
     "status": "completed"
    },
    "tags": []
   },
   "outputs": [
    {
     "data": {
      "text/plain": [
       "Text(0.5, 1.0, 'Date vs Views_show ')"
      ]
     },
     "execution_count": 22,
     "metadata": {},
     "output_type": "execute_result"
    },
    {
     "data": {
      "image/png": "[encoded data removed]",
      "text/plain": [
       "<Figure size 1080x720 with 1 Axes>"
      ]
     },
     "metadata": {
      "needs_background": "light"
     },
     "output_type": "display_data"
    }
   ],
   "source": [
    "plt.figure(figsize=(15,10))\n",
    "sns.barplot(x='Day_of_week', y='Views_show', data=media)\n",
    "plt.title('Date vs Views_show ')"
   ]
  },
  {
   "cell_type": "code",
   "execution_count": 23,
   "id": "5ae815cb",
   "metadata": {
    "execution": {
     "iopub.execute_input": "2022-11-18T02:33:48.094888Z",
     "iopub.status.busy": "2022-11-18T02:33:48.093495Z",
     "iopub.status.idle": "2022-11-18T02:33:48.373215Z",
     "shell.execute_reply": "2022-11-18T02:33:48.371710Z"
    },
    "papermill": {
     "duration": 0.304392,
     "end_time": "2022-11-18T02:33:48.376205",
     "exception": false,
     "start_time": "2022-11-18T02:33:48.071813",
     "status": "completed"
    },
    "tags": []
   },
   "outputs": [
    {
     "data": {
      "text/plain": [
       "Text(0.5, 1.0, 'Date vs Views_show ')"
      ]
     },
     "execution_count": 23,
     "metadata": {},
     "output_type": "execute_result"
    },
    {
     "data": {
      "image/png": "[encoded data removed]",
      "text/plain": [
       "<Figure size 1080x720 with 1 Axes>"
      ]
     },
     "metadata": {
      "needs_background": "light"
     },
     "output_type": "display_data"
    }
   ],
   "source": [
    "plt.figure(figsize=(15,10))\n",
    "sns.barplot(x='weekend', y='Views_show', data=media)\n",
    "plt.title('Date vs Views_show ')"
   ]
  },
  {
   "cell_type": "code",
   "execution_count": 24,
   "id": "fd087b7a",
   "metadata": {
    "execution": {
     "iopub.execute_input": "2022-11-18T02:33:48.419346Z",
     "iopub.status.busy": "2022-11-18T02:33:48.418953Z",
     "iopub.status.idle": "2022-11-18T02:33:49.071130Z",
     "shell.execute_reply": "2022-11-18T02:33:49.069426Z"
    },
    "papermill": {
     "duration": 0.676403,
     "end_time": "2022-11-18T02:33:49.073617",
     "exception": false,
     "start_time": "2022-11-18T02:33:48.397214",
     "status": "completed"
    },
    "tags": []
   },
   "outputs": [
    {
     "data": {
      "text/plain": [
       "<matplotlib.legend.Legend at 0x7fd72434a990>"
      ]
     },
     "execution_count": 24,
     "metadata": {},
     "output_type": "execute_result"
    },
    {
     "data": {
      "image/png": "[encoded data removed]",
      "text/plain": [
       "<Figure size 432x288 with 2 Axes>"
      ]
     },
     "metadata": {
      "needs_background": "light"
     },
     "output_type": "display_data"
    }
   ],
   "source": [
    "# plot for Date vs Views_show and days vs Ad_impressions\n",
    "ax = media.plot(x=\"Date\", y=\"Views_show\", legend=False)\n",
    "ax2 = ax.twinx()\n",
    "media.plot(x=\"Date\", y=\"Ad_impression\", ax=ax2, legend=False, color=\"r\")\n",
    "ax.figure.legend()"
   ]
  },
  {
   "cell_type": "markdown",
   "id": "a27d0bcc",
   "metadata": {
    "papermill": {
     "duration": 0.020931,
     "end_time": "2022-11-18T02:33:49.115956",
     "exception": false,
     "start_time": "2022-11-18T02:33:49.095025",
     "status": "completed"
    },
    "tags": []
   },
   "source": [
    "# Visualizing Continuous column with scatter plot"
   ]
  },
  {
   "cell_type": "code",
   "execution_count": 25,
   "id": "a44c5196",
   "metadata": {
    "execution": {
     "iopub.execute_input": "2022-11-18T02:33:49.161163Z",
     "iopub.status.busy": "2022-11-18T02:33:49.160769Z",
     "iopub.status.idle": "2022-11-18T02:33:49.434002Z",
     "shell.execute_reply": "2022-11-18T02:33:49.432423Z"
    },
    "papermill": {
     "duration": 0.298762,
     "end_time": "2022-11-18T02:33:49.436837",
     "exception": false,
     "start_time": "2022-11-18T02:33:49.138075",
     "status": "completed"
    },
    "tags": []
   },
   "outputs": [
    {
     "data": {
      "text/plain": [
       "<AxesSubplot:xlabel='Ad_impression', ylabel='Views_show'>"
      ]
     },
     "execution_count": 25,
     "metadata": {},
     "output_type": "execute_result"
    },
    {
     "data": {
      "image/png": "[encoded data removed]",
      "text/plain": [
       "<Figure size 432x288 with 1 Axes>"
      ]
     },
     "metadata": {
      "needs_background": "light"
     },
     "output_type": "display_data"
    }
   ],
   "source": [
    "#Ad_impression\n",
    "sns.scatterplot(data = media, x = 'Ad_impression', y = 'Views_show')"
   ]
  },
  {
   "cell_type": "code",
   "execution_count": 26,
   "id": "9b479c02",
   "metadata": {
    "execution": {
     "iopub.execute_input": "2022-11-18T02:33:49.482792Z",
     "iopub.status.busy": "2022-11-18T02:33:49.482362Z",
     "iopub.status.idle": "2022-11-18T02:33:49.488853Z",
     "shell.execute_reply": "2022-11-18T02:33:49.487194Z"
    },
    "papermill": {
     "duration": 0.033307,
     "end_time": "2022-11-18T02:33:49.491746",
     "exception": false,
     "start_time": "2022-11-18T02:33:49.458439",
     "status": "completed"
    },
    "tags": []
   },
   "outputs": [],
   "source": [
    "# we can see that the views as well as ad impressions show a weekly pattern"
   ]
  },
  {
   "cell_type": "code",
   "execution_count": 27,
   "id": "59e87f4e",
   "metadata": {
    "execution": {
     "iopub.execute_input": "2022-11-18T02:33:49.536191Z",
     "iopub.status.busy": "2022-11-18T02:33:49.535796Z",
     "iopub.status.idle": "2022-11-18T02:33:49.749251Z",
     "shell.execute_reply": "2022-11-18T02:33:49.747881Z"
    },
    "papermill": {
     "duration": 0.238906,
     "end_time": "2022-11-18T02:33:49.751848",
     "exception": false,
     "start_time": "2022-11-18T02:33:49.512942",
     "status": "completed"
    },
    "tags": []
   },
   "outputs": [
    {
     "data": {
      "text/plain": [
       "<AxesSubplot:xlabel='Visitors', ylabel='Views_show'>"
      ]
     },
     "execution_count": 27,
     "metadata": {},
     "output_type": "execute_result"
    },
    {
     "data": {
      "image/png": "[encoded data removed]",
      "text/plain": [
       "<Figure size 432x288 with 1 Axes>"
      ]
     },
     "metadata": {
      "needs_background": "light"
     },
     "output_type": "display_data"
    }
   ],
   "source": [
    "#Visitors\n",
    "sns.scatterplot(data = media, x = 'Visitors', y = 'Views_show')"
   ]
  },
  {
   "cell_type": "code",
   "execution_count": 28,
   "id": "bd0b0250",
   "metadata": {
    "execution": {
     "iopub.execute_input": "2022-11-18T02:33:49.800140Z",
     "iopub.status.busy": "2022-11-18T02:33:49.798941Z",
     "iopub.status.idle": "2022-11-18T02:33:49.804935Z",
     "shell.execute_reply": "2022-11-18T02:33:49.803889Z"
    },
    "papermill": {
     "duration": 0.032801,
     "end_time": "2022-11-18T02:33:49.807497",
     "exception": false,
     "start_time": "2022-11-18T02:33:49.774696",
     "status": "completed"
    },
    "tags": []
   },
   "outputs": [],
   "source": [
    "#Show views are some what proportionately related to Visitors"
   ]
  },
  {
   "cell_type": "code",
   "execution_count": 29,
   "id": "bdda8a9d",
   "metadata": {
    "execution": {
     "iopub.execute_input": "2022-11-18T02:33:49.854657Z",
     "iopub.status.busy": "2022-11-18T02:33:49.854137Z",
     "iopub.status.idle": "2022-11-18T02:33:50.163589Z",
     "shell.execute_reply": "2022-11-18T02:33:50.161577Z"
    },
    "papermill": {
     "duration": 0.336687,
     "end_time": "2022-11-18T02:33:50.166430",
     "exception": false,
     "start_time": "2022-11-18T02:33:49.829743",
     "status": "completed"
    },
    "tags": []
   },
   "outputs": [
    {
     "data": {
      "text/plain": [
       "<AxesSubplot:xlabel='Views_platform', ylabel='Views_show'>"
      ]
     },
     "execution_count": 29,
     "metadata": {},
     "output_type": "execute_result"
    },
    {
     "data": {
      "image/png": "[encoded data removed]",
      "text/plain": [
       "<Figure size 432x288 with 1 Axes>"
      ]
     },
     "metadata": {
      "needs_background": "light"
     },
     "output_type": "display_data"
    }
   ],
   "source": [
    "#Views Platform\n",
    "sns.scatterplot(data = media, x = 'Views_platform', y = 'Views_show')"
   ]
  },
  {
   "cell_type": "code",
   "execution_count": 30,
   "id": "8adefeee",
   "metadata": {
    "execution": {
     "iopub.execute_input": "2022-11-18T02:33:50.222482Z",
     "iopub.status.busy": "2022-11-18T02:33:50.221027Z",
     "iopub.status.idle": "2022-11-18T02:33:50.228234Z",
     "shell.execute_reply": "2022-11-18T02:33:50.226517Z"
    },
    "papermill": {
     "duration": 0.03789,
     "end_time": "2022-11-18T02:33:50.231467",
     "exception": false,
     "start_time": "2022-11-18T02:33:50.193577",
     "status": "completed"
    },
    "tags": []
   },
   "outputs": [],
   "source": [
    "#Show views are some what proportionately related to Platform views"
   ]
  },
  {
   "cell_type": "code",
   "execution_count": 31,
   "id": "9fdf00bf",
   "metadata": {
    "execution": {
     "iopub.execute_input": "2022-11-18T02:33:50.280921Z",
     "iopub.status.busy": "2022-11-18T02:33:50.280475Z",
     "iopub.status.idle": "2022-11-18T02:33:50.531017Z",
     "shell.execute_reply": "2022-11-18T02:33:50.529324Z"
    },
    "papermill": {
     "duration": 0.278384,
     "end_time": "2022-11-18T02:33:50.534092",
     "exception": false,
     "start_time": "2022-11-18T02:33:50.255708",
     "status": "completed"
    },
    "tags": []
   },
   "outputs": [
    {
     "data": {
      "text/plain": [
       "<AxesSubplot:xlabel='Cricket_match_india', ylabel='Views_show'>"
      ]
     },
     "execution_count": 31,
     "metadata": {},
     "output_type": "execute_result"
    },
    {
     "data": {
      "image/png": "[encoded data removed]",
      "text/plain": [
       "<Figure size 432x288 with 1 Axes>"
      ]
     },
     "metadata": {
      "needs_background": "light"
     },
     "output_type": "display_data"
    }
   ],
   "source": [
    "##Cricket Match\n",
    "sns.scatterplot(data = media,x='Cricket_match_india', y='Views_show')"
   ]
  },
  {
   "cell_type": "code",
   "execution_count": 32,
   "id": "413db1bc",
   "metadata": {
    "execution": {
     "iopub.execute_input": "2022-11-18T02:33:50.589197Z",
     "iopub.status.busy": "2022-11-18T02:33:50.588786Z",
     "iopub.status.idle": "2022-11-18T02:33:50.595280Z",
     "shell.execute_reply": "2022-11-18T02:33:50.593701Z"
    },
    "papermill": {
     "duration": 0.038459,
     "end_time": "2022-11-18T02:33:50.598374",
     "exception": false,
     "start_time": "2022-11-18T02:33:50.559915",
     "status": "completed"
    },
    "tags": []
   },
   "outputs": [],
   "source": [
    "#Show views slightly declines when there is a cricket match."
   ]
  },
  {
   "cell_type": "code",
   "execution_count": 33,
   "id": "4e1c4da3",
   "metadata": {
    "execution": {
     "iopub.execute_input": "2022-11-18T02:33:50.652119Z",
     "iopub.status.busy": "2022-11-18T02:33:50.651373Z",
     "iopub.status.idle": "2022-11-18T02:33:50.951019Z",
     "shell.execute_reply": "2022-11-18T02:33:50.949670Z"
    },
    "papermill": {
     "duration": 0.332126,
     "end_time": "2022-11-18T02:33:50.955385",
     "exception": false,
     "start_time": "2022-11-18T02:33:50.623259",
     "status": "completed"
    },
    "tags": []
   },
   "outputs": [
    {
     "data": {
      "text/plain": [
       "<AxesSubplot:xlabel='Character_A', ylabel='Views_show'>"
      ]
     },
     "execution_count": 33,
     "metadata": {},
     "output_type": "execute_result"
    },
    {
     "data": {
      "image/png": "[encoded data removed]",
      "text/plain": [
       "<Figure size 432x288 with 1 Axes>"
      ]
     },
     "metadata": {
      "needs_background": "light"
     },
     "output_type": "display_data"
    }
   ],
   "source": [
    "#Character A\n",
    "sns.scatterplot(data = media,x='Character_A', y='Views_show')"
   ]
  },
  {
   "cell_type": "code",
   "execution_count": 34,
   "id": "a6456107",
   "metadata": {
    "execution": {
     "iopub.execute_input": "2022-11-18T02:33:51.014807Z",
     "iopub.status.busy": "2022-11-18T02:33:51.014245Z",
     "iopub.status.idle": "2022-11-18T02:33:51.021644Z",
     "shell.execute_reply": "2022-11-18T02:33:51.019683Z"
    },
    "papermill": {
     "duration": 0.042099,
     "end_time": "2022-11-18T02:33:51.024447",
     "exception": false,
     "start_time": "2022-11-18T02:33:50.982348",
     "status": "completed"
    },
    "tags": []
   },
   "outputs": [],
   "source": [
    "#Presence of Character A improves the show viewership."
   ]
  },
  {
   "cell_type": "code",
   "execution_count": 35,
   "id": "8d117551",
   "metadata": {
    "execution": {
     "iopub.execute_input": "2022-11-18T02:33:51.080787Z",
     "iopub.status.busy": "2022-11-18T02:33:51.078881Z",
     "iopub.status.idle": "2022-11-18T02:33:51.653711Z",
     "shell.execute_reply": "2022-11-18T02:33:51.651607Z"
    },
    "papermill": {
     "duration": 0.60829,
     "end_time": "2022-11-18T02:33:51.657067",
     "exception": false,
     "start_time": "2022-11-18T02:33:51.048777",
     "status": "completed"
    },
    "tags": []
   },
   "outputs": [
    {
     "name": "stderr",
     "output_type": "stream",
     "text": [
      "/opt/conda/lib/python3.7/site-packages/seaborn/_decorators.py:43: FutureWarning: Pass the following variable as a keyword arg: x. From version 0.12, the only valid positional argument will be `data`, and passing other arguments without an explicit keyword will result in an error or misinterpretation.\n",
      "  FutureWarning\n",
      "/opt/conda/lib/python3.7/site-packages/seaborn/_decorators.py:43: FutureWarning: Pass the following variable as a keyword arg: x. From version 0.12, the only valid positional argument will be `data`, and passing other arguments without an explicit keyword will result in an error or misinterpretation.\n",
      "  FutureWarning\n",
      "/opt/conda/lib/python3.7/site-packages/seaborn/_decorators.py:43: FutureWarning: Pass the following variable as a keyword arg: x. From version 0.12, the only valid positional argument will be `data`, and passing other arguments without an explicit keyword will result in an error or misinterpretation.\n",
      "  FutureWarning\n",
      "/opt/conda/lib/python3.7/site-packages/seaborn/_decorators.py:43: FutureWarning: Pass the following variable as a keyword arg: x. From version 0.12, the only valid positional argument will be `data`, and passing other arguments without an explicit keyword will result in an error or misinterpretation.\n",
      "  FutureWarning\n"
     ]
    },
    {
     "data": {
      "image/png": "[encoded data removed]",
      "text/plain": [
       "<Figure size 720x360 with 4 Axes>"
      ]
     },
     "metadata": {
      "needs_background": "light"
     },
     "output_type": "display_data"
    }
   ],
   "source": [
    "# Outlier Analysis\n",
    "fig, axs = plt.subplots(2,2,figsize = (10,5))\n",
    "plt1 = sns.boxplot(media['Views_show'], ax = axs[0,0])\n",
    "plt2 = sns.boxplot(media['Visitors'], ax = axs[0,1])\n",
    "plt3 = sns.boxplot(media['Views_platform'], ax = axs[1,0])\n",
    "plt4 = sns.boxplot(media['Ad_impression'], ax = axs[1,1])\n",
    "\n",
    "plt.tight_layout()"
   ]
  },
  {
   "cell_type": "markdown",
   "id": "0fc67e9f",
   "metadata": {
    "papermill": {
     "duration": 0.035858,
     "end_time": "2022-11-18T02:33:51.719991",
     "exception": false,
     "start_time": "2022-11-18T02:33:51.684133",
     "status": "completed"
    },
    "tags": []
   },
   "source": [
    "Heat map\n",
    "\n",
    "Let's check the correlation coefficients to see which variables are highly correlated"
   ]
  },
  {
   "cell_type": "code",
   "execution_count": 36,
   "id": "e1256185",
   "metadata": {
    "execution": {
     "iopub.execute_input": "2022-11-18T02:33:51.790758Z",
     "iopub.status.busy": "2022-11-18T02:33:51.790165Z",
     "iopub.status.idle": "2022-11-18T02:33:52.507365Z",
     "shell.execute_reply": "2022-11-18T02:33:52.505923Z"
    },
    "papermill": {
     "duration": 0.75957,
     "end_time": "2022-11-18T02:33:52.510946",
     "exception": false,
     "start_time": "2022-11-18T02:33:51.751376",
     "status": "completed"
    },
    "tags": []
   },
   "outputs": [
    {
     "data": {
      "text/plain": [
       "<AxesSubplot:>"
      ]
     },
     "execution_count": 36,
     "metadata": {},
     "output_type": "execute_result"
    },
    {
     "data": {
      "image/png": "[encoded data removed]",
      "text/plain": [
       "<Figure size 720x504 with 2 Axes>"
      ]
     },
     "metadata": {
      "needs_background": "light"
     },
     "output_type": "display_data"
    }
   ],
   "source": [
    "plt.figure(figsize=(10,7))\n",
    "sns.heatmap(media.corr(), annot = True)"
   ]
  },
  {
   "cell_type": "markdown",
   "id": "befbfbae",
   "metadata": {
    "papermill": {
     "duration": 0.029801,
     "end_time": "2022-11-18T02:33:52.568597",
     "exception": false,
     "start_time": "2022-11-18T02:33:52.538796",
     "status": "completed"
    },
    "tags": []
   },
   "source": [
    "Lighter the clr more co-relaton\n",
    "\n",
    "Weekend's having high co-relation where as cricket_match_one is having low co-relaton"
   ]
  },
  {
   "cell_type": "markdown",
   "id": "fe42a872",
   "metadata": {
    "papermill": {
     "duration": 0.027091,
     "end_time": "2022-11-18T02:33:52.624908",
     "exception": false,
     "start_time": "2022-11-18T02:33:52.597817",
     "status": "completed"
    },
    "tags": []
   },
   "source": [
    "#  Model Building"
   ]
  },
  {
   "cell_type": "markdown",
   "id": "6db8b689",
   "metadata": {
    "papermill": {
     "duration": 0.027709,
     "end_time": "2022-11-18T02:33:52.679143",
     "exception": false,
     "start_time": "2022-11-18T02:33:52.651434",
     "status": "completed"
    },
    "tags": []
   },
   "source": [
    "Splitting the dataset to train and test data"
   ]
  },
  {
   "cell_type": "code",
   "execution_count": 37,
   "id": "b35607c8",
   "metadata": {
    "execution": {
     "iopub.execute_input": "2022-11-18T02:33:52.738251Z",
     "iopub.status.busy": "2022-11-18T02:33:52.737776Z",
     "iopub.status.idle": "2022-11-18T02:33:52.744669Z",
     "shell.execute_reply": "2022-11-18T02:33:52.743682Z"
    },
    "papermill": {
     "duration": 0.038977,
     "end_time": "2022-11-18T02:33:52.747161",
     "exception": false,
     "start_time": "2022-11-18T02:33:52.708184",
     "status": "completed"
    },
    "tags": []
   },
   "outputs": [],
   "source": [
    "X = media[['weekend','Character_A','Ad_impression']]\n",
    "y = media['Views_show']"
   ]
  },
  {
   "cell_type": "code",
   "execution_count": 38,
   "id": "00b50a4e",
   "metadata": {
    "execution": {
     "iopub.execute_input": "2022-11-18T02:33:52.806456Z",
     "iopub.status.busy": "2022-11-18T02:33:52.805761Z",
     "iopub.status.idle": "2022-11-18T02:33:52.813193Z",
     "shell.execute_reply": "2022-11-18T02:33:52.812073Z"
    },
    "papermill": {
     "duration": 0.041126,
     "end_time": "2022-11-18T02:33:52.816289",
     "exception": false,
     "start_time": "2022-11-18T02:33:52.775163",
     "status": "completed"
    },
    "tags": []
   },
   "outputs": [],
   "source": [
    "X_train, X_test, y_train, y_test = train_test_split(X, y, test_size=0.2,random_state=42)"
   ]
  },
  {
   "cell_type": "code",
   "execution_count": 39,
   "id": "f1a5b624",
   "metadata": {
    "execution": {
     "iopub.execute_input": "2022-11-18T02:33:52.878862Z",
     "iopub.status.busy": "2022-11-18T02:33:52.877536Z",
     "iopub.status.idle": "2022-11-18T02:33:52.886975Z",
     "shell.execute_reply": "2022-11-18T02:33:52.885428Z"
    },
    "papermill": {
     "duration": 0.04664,
     "end_time": "2022-11-18T02:33:52.890118",
     "exception": false,
     "start_time": "2022-11-18T02:33:52.843478",
     "status": "completed"
    },
    "tags": []
   },
   "outputs": [
    {
     "data": {
      "text/plain": [
       "(64, 3)"
      ]
     },
     "execution_count": 39,
     "metadata": {},
     "output_type": "execute_result"
    }
   ],
   "source": [
    "X_train.shape"
   ]
  },
  {
   "cell_type": "code",
   "execution_count": 40,
   "id": "be09416f",
   "metadata": {
    "execution": {
     "iopub.execute_input": "2022-11-18T02:33:52.949990Z",
     "iopub.status.busy": "2022-11-18T02:33:52.949585Z",
     "iopub.status.idle": "2022-11-18T02:33:52.958608Z",
     "shell.execute_reply": "2022-11-18T02:33:52.956733Z"
    },
    "papermill": {
     "duration": 0.042368,
     "end_time": "2022-11-18T02:33:52.962512",
     "exception": false,
     "start_time": "2022-11-18T02:33:52.920144",
     "status": "completed"
    },
    "tags": []
   },
   "outputs": [
    {
     "data": {
      "text/plain": [
       "(16, 3)"
      ]
     },
     "execution_count": 40,
     "metadata": {},
     "output_type": "execute_result"
    }
   ],
   "source": [
    "X_test.shape"
   ]
  },
  {
   "cell_type": "code",
   "execution_count": 41,
   "id": "c1f35cd6",
   "metadata": {
    "execution": {
     "iopub.execute_input": "2022-11-18T02:33:53.032654Z",
     "iopub.status.busy": "2022-11-18T02:33:53.032248Z",
     "iopub.status.idle": "2022-11-18T02:33:53.040082Z",
     "shell.execute_reply": "2022-11-18T02:33:53.038732Z"
    },
    "papermill": {
     "duration": 0.048253,
     "end_time": "2022-11-18T02:33:53.042717",
     "exception": false,
     "start_time": "2022-11-18T02:33:52.994464",
     "status": "completed"
    },
    "tags": []
   },
   "outputs": [
    {
     "data": {
      "text/plain": [
       "(64,)"
      ]
     },
     "execution_count": 41,
     "metadata": {},
     "output_type": "execute_result"
    }
   ],
   "source": [
    "y_train.shape"
   ]
  },
  {
   "cell_type": "code",
   "execution_count": 42,
   "id": "67bdf5fd",
   "metadata": {
    "execution": {
     "iopub.execute_input": "2022-11-18T02:33:53.104136Z",
     "iopub.status.busy": "2022-11-18T02:33:53.103583Z",
     "iopub.status.idle": "2022-11-18T02:33:53.113103Z",
     "shell.execute_reply": "2022-11-18T02:33:53.111699Z"
    },
    "papermill": {
     "duration": 0.042881,
     "end_time": "2022-11-18T02:33:53.116280",
     "exception": false,
     "start_time": "2022-11-18T02:33:53.073399",
     "status": "completed"
    },
    "tags": []
   },
   "outputs": [
    {
     "data": {
      "text/plain": [
       "(16,)"
      ]
     },
     "execution_count": 42,
     "metadata": {},
     "output_type": "execute_result"
    }
   ],
   "source": [
    " y_test.shape"
   ]
  },
  {
   "cell_type": "code",
   "execution_count": 43,
   "id": "2143518a",
   "metadata": {
    "execution": {
     "iopub.execute_input": "2022-11-18T02:33:53.181839Z",
     "iopub.status.busy": "2022-11-18T02:33:53.181242Z",
     "iopub.status.idle": "2022-11-18T02:33:53.187989Z",
     "shell.execute_reply": "2022-11-18T02:33:53.186430Z"
    },
    "papermill": {
     "duration": 0.0443,
     "end_time": "2022-11-18T02:33:53.191003",
     "exception": false,
     "start_time": "2022-11-18T02:33:53.146703",
     "status": "completed"
    },
    "tags": []
   },
   "outputs": [],
   "source": [
    "linreg = LinearRegression()"
   ]
  },
  {
   "cell_type": "code",
   "execution_count": 44,
   "id": "30a42886",
   "metadata": {
    "execution": {
     "iopub.execute_input": "2022-11-18T02:33:53.246313Z",
     "iopub.status.busy": "2022-11-18T02:33:53.245891Z",
     "iopub.status.idle": "2022-11-18T02:33:53.278269Z",
     "shell.execute_reply": "2022-11-18T02:33:53.276753Z"
    },
    "papermill": {
     "duration": 0.062729,
     "end_time": "2022-11-18T02:33:53.280782",
     "exception": false,
     "start_time": "2022-11-18T02:33:53.218053",
     "status": "completed"
    },
    "tags": []
   },
   "outputs": [
    {
     "data": {
      "text/plain": [
       "LinearRegression()"
      ]
     },
     "execution_count": 44,
     "metadata": {},
     "output_type": "execute_result"
    }
   ],
   "source": [
    "# fit the model to the training data\n",
    "linreg.fit(X_train, y_train)"
   ]
  },
  {
   "cell_type": "code",
   "execution_count": 45,
   "id": "809ccf8c",
   "metadata": {
    "execution": {
     "iopub.execute_input": "2022-11-18T02:33:53.335767Z",
     "iopub.status.busy": "2022-11-18T02:33:53.334227Z",
     "iopub.status.idle": "2022-11-18T02:33:53.342196Z",
     "shell.execute_reply": "2022-11-18T02:33:53.341129Z"
    },
    "papermill": {
     "duration": 0.037366,
     "end_time": "2022-11-18T02:33:53.344412",
     "exception": false,
     "start_time": "2022-11-18T02:33:53.307046",
     "status": "completed"
    },
    "tags": []
   },
   "outputs": [],
   "source": [
    "##Predicton\n",
    "pred = linreg.predict(X_test)"
   ]
  },
  {
   "cell_type": "code",
   "execution_count": 46,
   "id": "3f164a3d",
   "metadata": {
    "execution": {
     "iopub.execute_input": "2022-11-18T02:33:53.398363Z",
     "iopub.status.busy": "2022-11-18T02:33:53.397400Z",
     "iopub.status.idle": "2022-11-18T02:33:53.405245Z",
     "shell.execute_reply": "2022-11-18T02:33:53.403415Z"
    },
    "papermill": {
     "duration": 0.038145,
     "end_time": "2022-11-18T02:33:53.408080",
     "exception": false,
     "start_time": "2022-11-18T02:33:53.369935",
     "status": "completed"
    },
    "tags": []
   },
   "outputs": [
    {
     "name": "stdout",
     "output_type": "stream",
     "text": [
      "[ 1.51450851e+05 -1.93300720e+04  3.69939829e-04]\n"
     ]
    }
   ],
   "source": [
    "# Coefficient of the model\n",
    "print(linreg.coef_)"
   ]
  },
  {
   "cell_type": "code",
   "execution_count": 47,
   "id": "d690a362",
   "metadata": {
    "execution": {
     "iopub.execute_input": "2022-11-18T02:33:53.462536Z",
     "iopub.status.busy": "2022-11-18T02:33:53.461505Z",
     "iopub.status.idle": "2022-11-18T02:33:54.654003Z",
     "shell.execute_reply": "2022-11-18T02:33:54.652568Z"
    },
    "papermill": {
     "duration": 1.224613,
     "end_time": "2022-11-18T02:33:54.658420",
     "exception": false,
     "start_time": "2022-11-18T02:33:53.433807",
     "status": "completed"
    },
    "tags": []
   },
   "outputs": [
    {
     "name": "stdout",
     "output_type": "stream",
     "text": [
      "                            OLS Regression Results                            \n",
      "==============================================================================\n",
      "Dep. Variable:             Views_show   R-squared:                       0.803\n",
      "Model:                            OLS   Adj. R-squared:                  0.795\n",
      "Method:                 Least Squares   F-statistic:                     103.0\n",
      "Date:                Fri, 18 Nov 2022   Prob (F-statistic):           1.05e-26\n",
      "Time:                        02:33:54   Log-Likelihood:                -1004.2\n",
      "No. Observations:                  80   AIC:                             2016.\n",
      "Df Residuals:                      76   BIC:                             2026.\n",
      "Df Model:                           3                                         \n",
      "Covariance Type:            nonrobust                                         \n",
      "=================================================================================\n",
      "                    coef    std err          t      P>|t|      [0.025      0.975]\n",
      "---------------------------------------------------------------------------------\n",
      "const         -2.661e+05   4.74e+04     -5.609      0.000   -3.61e+05   -1.72e+05\n",
      "weekend         1.51e+05   1.88e+04      8.019      0.000    1.14e+05    1.89e+05\n",
      "Character_A    -2.99e+04   2.14e+04     -1.394      0.167   -7.26e+04    1.28e+04\n",
      "Ad_impression     0.0004   3.69e-05      9.875      0.000       0.000       0.000\n",
      "==============================================================================\n",
      "Omnibus:                        4.723   Durbin-Watson:                   1.169\n",
      "Prob(Omnibus):                  0.094   Jarque-Bera (JB):                3.939\n",
      "Skew:                           0.453   Prob(JB):                        0.139\n",
      "Kurtosis:                       3.601   Cond. No.                     9.26e+09\n",
      "==============================================================================\n",
      "\n",
      "Notes:\n",
      "[1] Standard Errors assume that the covariance matrix of the errors is correctly specified.\n",
      "[2] The condition number is large, 9.26e+09. This might indicate that there are\n",
      "strong multicollinearity or other numerical problems.\n"
     ]
    }
   ],
   "source": [
    "import statsmodels.api as sm\n",
    "#Unlike SKLearn, statsmodels don't automatically fit a constant, \n",
    "#so you need to use the method sm.add_constant(X) in order to add a constant. \n",
    "X = sm.add_constant(X)\n",
    "# create a fitted model in one line\n",
    "lm_8 = sm.OLS(y,X).fit()\n",
    "print(lm_8.summary())"
   ]
  },
  {
   "cell_type": "markdown",
   "id": "d1f2955a",
   "metadata": {
    "papermill": {
     "duration": 0.026921,
     "end_time": "2022-11-18T02:33:54.713734",
     "exception": false,
     "start_time": "2022-11-18T02:33:54.686813",
     "status": "completed"
    },
    "tags": []
   },
   "source": [
    "Create a scatterplot of the real test values versus the predicted values. "
   ]
  },
  {
   "cell_type": "code",
   "execution_count": 48,
   "id": "5f030e79",
   "metadata": {
    "execution": {
     "iopub.execute_input": "2022-11-18T02:33:54.770178Z",
     "iopub.status.busy": "2022-11-18T02:33:54.769769Z",
     "iopub.status.idle": "2022-11-18T02:33:54.982419Z",
     "shell.execute_reply": "2022-11-18T02:33:54.980924Z"
    },
    "papermill": {
     "duration": 0.245052,
     "end_time": "2022-11-18T02:33:54.985193",
     "exception": false,
     "start_time": "2022-11-18T02:33:54.740141",
     "status": "completed"
    },
    "tags": []
   },
   "outputs": [
    {
     "data": {
      "image/png": "[encoded data removed]",
      "text/plain": [
       "<Figure size 432x288 with 1 Axes>"
      ]
     },
     "metadata": {
      "needs_background": "light"
     },
     "output_type": "display_data"
    }
   ],
   "source": [
    "plt.scatter(y_test, pred)\n",
    "plt.xlabel('Y test')\n",
    "plt.ylabel('Y pred')\n",
    "plt.show()"
   ]
  },
  {
   "cell_type": "markdown",
   "id": "9cf61d5a",
   "metadata": {
    "papermill": {
     "duration": 0.028295,
     "end_time": "2022-11-18T02:33:55.042384",
     "exception": false,
     "start_time": "2022-11-18T02:33:55.014089",
     "status": "completed"
    },
    "tags": []
   },
   "source": [
    "#  Evaluating the Model\n",
    "\n",
    "Let's evaluate our model performance by calculating the residual sum of squares and the explained variance score (R^2).\n",
    "\n",
    "Calculate the Mean Absolute Error, Mean Squared Error, and the Root Mean Squared Error. Refer to the lecture or to Wikipedia for the formulas"
   ]
  },
  {
   "cell_type": "code",
   "execution_count": 49,
   "id": "c12e719c",
   "metadata": {
    "execution": {
     "iopub.execute_input": "2022-11-18T02:33:55.100700Z",
     "iopub.status.busy": "2022-11-18T02:33:55.100257Z",
     "iopub.status.idle": "2022-11-18T02:33:55.110474Z",
     "shell.execute_reply": "2022-11-18T02:33:55.109031Z"
    },
    "papermill": {
     "duration": 0.043766,
     "end_time": "2022-11-18T02:33:55.114655",
     "exception": false,
     "start_time": "2022-11-18T02:33:55.070889",
     "status": "completed"
    },
    "tags": []
   },
   "outputs": [
    {
     "name": "stdout",
     "output_type": "stream",
     "text": [
      "MAE: 58009.078665751586\n",
      "MSE: 4970215235.518728\n",
      "RMSE: 70499.7534429641\n"
     ]
    }
   ],
   "source": [
    "import sklearn.metrics as metrics\n",
    "print('MAE: {}'.format(metrics.mean_absolute_error(y_test, pred)))\n",
    "print('MSE: {}'.format(metrics.mean_squared_error(y_test, pred)))\n",
    "print('RMSE: {}'.format(np.sqrt(metrics.mean_squared_error(y_test, pred))))"
   ]
  },
  {
   "cell_type": "markdown",
   "id": "13ae5024",
   "metadata": {
    "papermill": {
     "duration": 0.027557,
     "end_time": "2022-11-18T02:33:55.169155",
     "exception": false,
     "start_time": "2022-11-18T02:33:55.141598",
     "status": "completed"
    },
    "tags": []
   },
   "source": [
    "# Residuals \n",
    "\n",
    "You should have gotten a very good model with a good fit. Let's quickly explore the residuals to make sure everything was okay with our data.\n",
    "\n",
    "Plot a histogram of the residuals and make sure it looks normally distributed. Use either seaborn distplot, or just plt.hist()."
   ]
  },
  {
   "cell_type": "code",
   "execution_count": 50,
   "id": "52ab663b",
   "metadata": {
    "execution": {
     "iopub.execute_input": "2022-11-18T02:33:55.227441Z",
     "iopub.status.busy": "2022-11-18T02:33:55.225003Z",
     "iopub.status.idle": "2022-11-18T02:33:55.506144Z",
     "shell.execute_reply": "2022-11-18T02:33:55.504683Z"
    },
    "papermill": {
     "duration": 0.312733,
     "end_time": "2022-11-18T02:33:55.509232",
     "exception": false,
     "start_time": "2022-11-18T02:33:55.196499",
     "status": "completed"
    },
    "tags": []
   },
   "outputs": [
    {
     "name": "stderr",
     "output_type": "stream",
     "text": [
      "/opt/conda/lib/python3.7/site-packages/seaborn/distributions.py:2619: FutureWarning: `distplot` is a deprecated function and will be removed in a future version. Please adapt your code to use either `displot` (a figure-level function with similar flexibility) or `histplot` (an axes-level function for histograms).\n",
      "  warnings.warn(msg, FutureWarning)\n"
     ]
    },
    {
     "data": {
      "text/plain": [
       "<AxesSubplot:xlabel='Views_show', ylabel='Density'>"
      ]
     },
     "execution_count": 50,
     "metadata": {},
     "output_type": "execute_result"
    },
    {
     "data": {
      "image/png": "[encoded data removed]",
      "text/plain": [
       "<Figure size 432x288 with 1 Axes>"
      ]
     },
     "metadata": {
      "needs_background": "light"
     },
     "output_type": "display_data"
    }
   ],
   "source": [
    "sns.distplot((y_test-pred))"
   ]
  },
  {
   "cell_type": "markdown",
   "id": "8b5849d8",
   "metadata": {
    "papermill": {
     "duration": 0.027061,
     "end_time": "2022-11-18T02:33:55.564080",
     "exception": false,
     "start_time": "2022-11-18T02:33:55.537019",
     "status": "completed"
    },
    "tags": []
   },
   "source": [
    "# CONCLUSION\n",
    "\n",
    "Ad Impressions and Character A as the driver variables that could explain the viewership pattern.\n",
    "\n",
    "Based on industry experience, ad impressions are directly proportional to the marketing budget. \n",
    "\n",
    "Thus, by increasing the marketing budget, a better viewership could be achieved. Similarly,\n",
    "\n",
    "Character A’s absence and presence created a significant change in show viewership.\n",
    "\n",
    "Character A’s presence brings viewers to the show. Thus, these two variables could be acted upon to improve show viewership."
   ]
  }
 ],
 "metadata": {
  "kernelspec": {
   "display_name": "Python 3",
   "language": "python",
   "name": "python3"
  },
  "language_info": {
   "codemirror_mode": {
    "name": "ipython",
    "version": 3
   },
   "file_extension": ".py",
   "mimetype": "text/x-python",
   "name": "python",
   "nbconvert_exporter": "python",
   "pygments_lexer": "ipython3",
   "version": "3.7.12"
  },
  "papermill": {
   "default_parameters": {},
   "duration": 27.835063,
   "end_time": "2022-11-18T02:33:56.619756",
   "environment_variables": {},
   "exception": null,
   "input_path": "__notebook__.ipynb",
   "output_path": "__notebook__.ipynb",
   "parameters": {},
   "start_time": "2022-11-18T02:33:28.784693",
   "version": "2.3.4"
  }
 },
 "nbformat": 4,
 "nbformat_minor": 5
}
